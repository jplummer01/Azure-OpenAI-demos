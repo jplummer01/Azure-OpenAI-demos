{
 "cells": [
  {
   "cell_type": "markdown",
   "id": "d9e94ca8-af93-41fd-9898-1a94ea845a2f",
   "metadata": {},
   "source": [
    "# SORA 2 with Azure AI Foundry\n",
    "\n",
    "<img src=\"logo.webp\">\n",
    "\n",
    "### Overview\n",
    "This notebook demonstrates how to generate videos using the Sora-2 model integrated with Azure AI Foundry. It covers:\n",
    "- Authentication with Microsoft Entra ID.\n",
    "- Connecting to Azure OpenAI endpoints.\n",
    "- Using Python to create and download AI-generated videos.\n",
    "\n",
    "## References\n",
    "- https://learn.microsoft.com/en-us/azure/ai-foundry/\n",
    "- https://azure.microsoft.com/en-us/blog/sora-2-now-available-in-azure-ai-foundry/\n",
    "- https://openai.com/index/sora-2/\n",
    "- https://openai.com/index/sora-2-system-card/"
   ]
  },
  {
   "cell_type": "code",
   "execution_count": 1,
   "id": "c05bbf23-9eb7-46d2-b5ef-96e55b0aff18",
   "metadata": {},
   "outputs": [],
   "source": [
    "import datetime\n",
    "import os\n",
    "import shutil\n",
    "import sys\n",
    "import time\n",
    "import zipfile\n",
    "\n",
    "from azure.identity import DefaultAzureCredential, get_bearer_token_provider\n",
    "from dotenv import load_dotenv\n",
    "from IPython.display import FileLink, Video\n",
    "from openai import OpenAI"
   ]
  },
  {
   "cell_type": "code",
   "execution_count": 2,
   "id": "6b1469f6-2e70-4af2-babc-971cbf8863bf",
   "metadata": {},
   "outputs": [
    {
     "data": {
      "text/plain": [
       "'3.10.18 (main, Jun  5 2025, 13:14:17) [GCC 11.2.0]'"
      ]
     },
     "execution_count": 2,
     "metadata": {},
     "output_type": "execute_result"
    }
   ],
   "source": [
    "sys.version"
   ]
  },
  {
   "cell_type": "code",
   "execution_count": 3,
   "id": "a9fe74de-ee96-4b32-9828-c0f9479eeda4",
   "metadata": {},
   "outputs": [
    {
     "name": "stdout",
     "output_type": "stream",
     "text": [
      "Today is 20-Oct-2025 13:34:03\n"
     ]
    }
   ],
   "source": [
    "print(f\"Today is {datetime.datetime.today().strftime('%d-%b-%Y %H:%M:%S')}\")"
   ]
  },
  {
   "cell_type": "markdown",
   "id": "ddfd8c7b-27a6-4674-b9cc-94ad4726585d",
   "metadata": {},
   "source": [
    "## 1. Settings"
   ]
  },
  {
   "cell_type": "code",
   "execution_count": 4,
   "id": "277bb06d-e697-416e-b8af-9badf80e1958",
   "metadata": {},
   "outputs": [
    {
     "data": {
      "text/plain": [
       "True"
      ]
     },
     "execution_count": 4,
     "metadata": {},
     "output_type": "execute_result"
    }
   ],
   "source": [
    "load_dotenv(\"azure.env\")"
   ]
  },
  {
   "cell_type": "code",
   "execution_count": 5,
   "id": "7b305a34-1eeb-4038-adce-a560c724fcdf",
   "metadata": {},
   "outputs": [],
   "source": [
    "# Set up Microsoft Entra ID authentication\n",
    "token_provider = get_bearer_token_provider(\n",
    "    DefaultAzureCredential(), \"https://cognitiveservices.azure.com/.default\")"
   ]
  },
  {
   "cell_type": "code",
   "execution_count": 6,
   "id": "7887e2a5-317a-49f4-bda6-0c95720e9138",
   "metadata": {},
   "outputs": [],
   "source": [
    "client = OpenAI(\n",
    "    base_url=f\"{os.getenv('AZURE_OPENAI_ENDPOINT')}/openai/v1/\",\n",
    "    api_key=token_provider,\n",
    ")"
   ]
  },
  {
   "cell_type": "code",
   "execution_count": 7,
   "id": "9891bacf-5d27-46f0-b638-9687b63e845b",
   "metadata": {},
   "outputs": [],
   "source": [
    "VIDEO_DIR = \"videos\"\n",
    "\n",
    "if os.path.exists(VIDEO_DIR) and os.path.isdir(VIDEO_DIR):\n",
    "    shutil.rmtree(VIDEO_DIR)\n",
    "\n",
    "os.makedirs(VIDEO_DIR, exist_ok=True)"
   ]
  },
  {
   "cell_type": "markdown",
   "id": "97ff05c9-8c9d-4952-a184-f409d2c8dfa8",
   "metadata": {},
   "source": [
    "## 2. Helper"
   ]
  },
  {
   "cell_type": "code",
   "execution_count": 8,
   "id": "17ab96ae-8b6c-4ee0-a549-d17c1f36e25e",
   "metadata": {},
   "outputs": [],
   "source": [
    "def sora2(prompt):\n",
    "    \"\"\"\n",
    "    Generate a video using Sora-2 model\n",
    "    \n",
    "    Args:\n",
    "        prompt: Text description for video generation\n",
    "        sora2_videofile: Output path for the generated video\n",
    "    \"\"\"\n",
    "    start = time.time()\n",
    "\n",
    "    # Create video with custom parameters\n",
    "    print(f\"===== 🎨 Creating SORA-2 video using Azure AI Foundry =====\\n\")\n",
    "    print(f\"Prompt: {prompt}\")\n",
    "\n",
    "    try:\n",
    "        video = client.videos.create(\n",
    "            model=\n",
    "            \"sora-2\",  # The name of your sora2 deployed model in Azure AI Foundry\n",
    "            prompt=prompt,\n",
    "            size=\"1280x720\",  # Resolution 1280x720 or 720x1280\n",
    "            seconds=\"8\"  # Options: 4, 8, 12 seconds\n",
    "        )\n",
    "\n",
    "        print(f\"📹 Video ID: {video.id}\")\n",
    "        print(f\"⏳ Initial Status: {video.status}\\n\")\n",
    "\n",
    "        # Poll for completion\n",
    "        while video.status not in [\"completed\", \"failed\", \"cancelled\"]:\n",
    "            now = datetime.datetime.now().strftime('%d-%b-%Y %H:%M:%S')\n",
    "            print(f\"[{now}] ⏱️ Status: {video.status}\")\n",
    "            time.sleep(10)  # Pause\n",
    "            video = client.videos.retrieve(video.id)\n",
    "\n",
    "        # Handle final status\n",
    "        if video.status == \"completed\":\n",
    "            print(\"\\n✨ Video generation completed!\")\n",
    "            print(\"📥 Downloading video\")\n",
    "            content = client.videos.download_content(video.id, variant=\"video\")\n",
    "            sora2_videofile = os.path.join(\n",
    "                VIDEO_DIR,\n",
    "                f\"sora2_video_{datetime.datetime.now().strftime('%d%b%Y_%H%M%S')}.mp4\"\n",
    "            )\n",
    "            content.write_to_file(sora2_videofile)\n",
    "            minutes, seconds = divmod((time.time() - start), 60)\n",
    "            print(f\"⏱️ Done in {minutes:.0f} minutes and {seconds:.0f} seconds\")\n",
    "            print(f\"\\n✅ Video saved to: {sora2_videofile}\")\n",
    "            return sora2_videofile\n",
    "\n",
    "        elif video.status == \"failed\":\n",
    "            print(\"\\n❌ Video generation failed!\")\n",
    "            return False\n",
    "\n",
    "        elif video.status == \"cancelled\":\n",
    "            print(\"\\n⚠️ Video generation was cancelled\")\n",
    "            return False\n",
    "\n",
    "    except Exception as e:\n",
    "        print(f\"\\n🚨 Error occurred: {str(e)}\")\n",
    "        return False"
   ]
  },
  {
   "cell_type": "markdown",
   "id": "9b85b735-496b-468b-b24d-85ceffef56c2",
   "metadata": {},
   "source": [
    "## 3. Text to video examples"
   ]
  },
  {
   "cell_type": "code",
   "execution_count": 9,
   "id": "1d05e667-d698-4161-824c-60f1451687bd",
   "metadata": {},
   "outputs": [],
   "source": [
    "prompt = \"\"\"\n",
    "Advertising luxury perfume with a blond female model holding the perfume with Paris sunset behind her. \n",
    "The perfume name is 'Velour Eclipse'.\n",
    "She is saying 'Velour Eclipse perfume from Paris: Wear the eclipse, Own the night.'.\n",
    "\"\"\""
   ]
  },
  {
   "cell_type": "code",
   "execution_count": 10,
   "id": "92e355e4-76ee-4687-81a6-dcf7d854c758",
   "metadata": {},
   "outputs": [
    {
     "name": "stdout",
     "output_type": "stream",
     "text": [
      "===== 🎨 Creating SORA-2 video using Azure AI Foundry =====\n",
      "\n",
      "Prompt: \n",
      "Advertising luxury perfume with a blond female model holding the perfume with Paris sunset behind her. \n",
      "The perfume name is 'Velour Eclipse'.\n",
      "She is saying 'Velour Eclipse perfume from Paris: Wear the eclipse, Own the night.'.\n",
      "\n",
      "📹 Video ID: video_68f63a521ddc8190bf57d6877d4b88a2\n",
      "⏳ Initial Status: queued\n",
      "\n",
      "[20-Oct-2025 13:34:10] ⏱️ Status: queued\n",
      "[20-Oct-2025 13:34:20] ⏱️ Status: in_progress\n",
      "[20-Oct-2025 13:34:30] ⏱️ Status: in_progress\n",
      "[20-Oct-2025 13:34:41] ⏱️ Status: in_progress\n",
      "[20-Oct-2025 13:34:51] ⏱️ Status: in_progress\n",
      "[20-Oct-2025 13:35:01] ⏱️ Status: in_progress\n",
      "[20-Oct-2025 13:35:12] ⏱️ Status: in_progress\n",
      "[20-Oct-2025 13:35:22] ⏱️ Status: in_progress\n",
      "[20-Oct-2025 13:35:32] ⏱️ Status: in_progress\n",
      "[20-Oct-2025 13:35:43] ⏱️ Status: in_progress\n",
      "\n",
      "✨ Video generation completed!\n",
      "📥 Downloading video\n",
      "⏱️ Done in 1 minutes and 49 seconds\n",
      "\n",
      "✅ Video saved to: videos/sora2_video_20Oct2025_133557.mp4\n"
     ]
    }
   ],
   "source": [
    "sora2_videofile = sora2(prompt)"
   ]
  },
  {
   "cell_type": "code",
   "execution_count": 11,
   "id": "6baac4cf-aea8-421d-ab70-8cea8e3c7c2e",
   "metadata": {},
   "outputs": [
    {
     "data": {
      "text/html": [
       "<video src=\"videos/sora2_video_20Oct2025_133557.mp4\" controls  width=\"1024\" >\n",
       "      Your browser does not support the <code>video</code> element.\n",
       "    </video>"
      ],
      "text/plain": [
       "<IPython.core.display.Video object>"
      ]
     },
     "execution_count": 11,
     "metadata": {},
     "output_type": "execute_result"
    }
   ],
   "source": [
    "Video(sora2_videofile, width=1024)"
   ]
  },
  {
   "cell_type": "code",
   "execution_count": 12,
   "id": "cb1ea20f-ca03-49fd-bc53-65bb8bc1de88",
   "metadata": {},
   "outputs": [
    {
     "data": {
      "text/html": [
       "<a href='videos/sora2_video_20Oct2025_133557.mp4' target='_blank'>videos/sora2_video_20Oct2025_133557.mp4</a><br>"
      ],
      "text/plain": [
       "/mnt/batch/tasks/shared/LS_root/mounts/clusters/standardd48/code/Users/seretkow/Sora2/videos/sora2_video_20Oct2025_133557.mp4"
      ]
     },
     "execution_count": 12,
     "metadata": {},
     "output_type": "execute_result"
    }
   ],
   "source": [
    "video_link = FileLink(path=sora2_videofile)\n",
    "video_link"
   ]
  },
  {
   "cell_type": "markdown",
   "id": "88b04347-7d7e-4e33-80c8-37f390f8027e",
   "metadata": {},
   "source": [
    "### Another example"
   ]
  },
  {
   "cell_type": "code",
   "execution_count": 13,
   "id": "aaf02b8d-b038-4247-afcc-96ae30062484",
   "metadata": {},
   "outputs": [],
   "source": [
    "prompt = \"\"\"\n",
    "Clip on a sunlit beach boardwalk. \n",
    "Three diverse models walk in slow-motion wearing our summer '25 linen collection. \n",
    "Golden hour lighting, light acoustic pop track, quick jump-cuts between outfits. \n",
    "Animated title card: 'Enjoy!' with a brand logo 'Florida'.\n",
    "\"\"\""
   ]
  },
  {
   "cell_type": "code",
   "execution_count": 14,
   "id": "63a8768f-ee2b-4fbc-bcac-94b7ddf2bd27",
   "metadata": {},
   "outputs": [
    {
     "name": "stdout",
     "output_type": "stream",
     "text": [
      "===== 🎨 Creating SORA-2 video using Azure AI Foundry =====\n",
      "\n",
      "Prompt: \n",
      "Clip on a sunlit beach boardwalk. \n",
      "Three diverse models walk in slow-motion wearing our summer '25 linen collection. \n",
      "Golden hour lighting, light acoustic pop track, quick jump-cuts between outfits. \n",
      "Animated title card: 'Enjoy!' with a brand logo 'Florida'.\n",
      "\n",
      "📹 Video ID: video_68f63af0a2a48190a74c3c0dec1d517a\n",
      "⏳ Initial Status: queued\n",
      "\n",
      "[20-Oct-2025 13:36:48] ⏱️ Status: queued\n",
      "[20-Oct-2025 13:36:58] ⏱️ Status: in_progress\n",
      "[20-Oct-2025 13:37:09] ⏱️ Status: in_progress\n",
      "[20-Oct-2025 13:37:19] ⏱️ Status: in_progress\n",
      "[20-Oct-2025 13:37:29] ⏱️ Status: in_progress\n",
      "[20-Oct-2025 13:37:39] ⏱️ Status: in_progress\n",
      "[20-Oct-2025 13:37:50] ⏱️ Status: in_progress\n",
      "[20-Oct-2025 13:38:00] ⏱️ Status: in_progress\n",
      "[20-Oct-2025 13:38:11] ⏱️ Status: in_progress\n",
      "[20-Oct-2025 13:38:22] ⏱️ Status: in_progress\n",
      "[20-Oct-2025 13:38:32] ⏱️ Status: in_progress\n",
      "[20-Oct-2025 13:38:43] ⏱️ Status: in_progress\n",
      "\n",
      "✨ Video generation completed!\n",
      "📥 Downloading video\n",
      "⏱️ Done in 2 minutes and 10 seconds\n",
      "\n",
      "✅ Video saved to: videos/sora2_video_20Oct2025_133857.mp4\n"
     ]
    }
   ],
   "source": [
    "sora2_videofile = sora2(prompt)"
   ]
  },
  {
   "cell_type": "code",
   "execution_count": 15,
   "id": "63e0d738-2748-4fcc-8f68-83e2aedff31a",
   "metadata": {},
   "outputs": [
    {
     "data": {
      "text/html": [
       "<video src=\"videos/sora2_video_20Oct2025_133857.mp4\" controls  width=\"1024\" >\n",
       "      Your browser does not support the <code>video</code> element.\n",
       "    </video>"
      ],
      "text/plain": [
       "<IPython.core.display.Video object>"
      ]
     },
     "execution_count": 15,
     "metadata": {},
     "output_type": "execute_result"
    }
   ],
   "source": [
    "Video(sora2_videofile, width=1024)"
   ]
  },
  {
   "cell_type": "code",
   "execution_count": 16,
   "id": "a6c7c1d8-bd82-4781-93e1-0bf488744bac",
   "metadata": {},
   "outputs": [
    {
     "data": {
      "text/html": [
       "<a href='videos/sora2_video_20Oct2025_133857.mp4' target='_blank'>videos/sora2_video_20Oct2025_133857.mp4</a><br>"
      ],
      "text/plain": [
       "/mnt/batch/tasks/shared/LS_root/mounts/clusters/standardd48/code/Users/seretkow/Sora2/videos/sora2_video_20Oct2025_133857.mp4"
      ]
     },
     "execution_count": 16,
     "metadata": {},
     "output_type": "execute_result"
    }
   ],
   "source": [
    "video_link = FileLink(path=sora2_videofile)\n",
    "video_link"
   ]
  },
  {
   "cell_type": "markdown",
   "id": "4cda816b-485b-4e1b-b7f2-f05f538bdcdf",
   "metadata": {},
   "source": [
    "### Another example"
   ]
  },
  {
   "cell_type": "code",
   "execution_count": 17,
   "id": "9e99f225-0d2e-4a39-93db-490460e7ede6",
   "metadata": {},
   "outputs": [],
   "source": [
    "prompt = \"\"\"\n",
    "Style: Hand-painted 2D/3D hybrid animation with soft brush textures, warm tungsten lighting, and a tactile, stop-motion feel. \n",
    "The aesthetic evokes mid-2000s storybook animation — cozy, imperfect, full of mechanical charm. \n",
    "Subtle watercolor wash and painterly textures; warm–cool balance in grade; filmic motion blur for animated realism.\n",
    "Inside a cluttered workshop, shelves overflow with gears, bolts, and yellowing blueprints.\n",
    "At the center, a small round robot sits on a wooden bench, its dented body patched with mismatched plates and old paint layers. \n",
    "Its large glowing eyes flicker pale blue as it fiddles nervously with a humming light bulb. \n",
    "The air hums with quiet mechanical whirs, rain patters on the window, and the clock ticks steadily in the background.\n",
    "\n",
    "Cinematography:\n",
    "Camera: medium close-up, slow push-in with gentle parallax from hanging tools\n",
    "Lens: 35 mm virtual lens; shallow depth of field to soften background clutter\n",
    "Lighting: warm key from overhead practical; cool spill from window for contrast\n",
    "Mood: gentle, whimsical, a touch of suspense\n",
    "\n",
    "Actions:\n",
    "- The robot taps the bulb; sparks crackle.\n",
    "- It flinches, dropping the bulb, eyes widening.\n",
    "- The bulb tumbles in slow motion; it catches it just in time.\n",
    "- A puff of steam escapes its chest — relief and pride.\n",
    "- Robot says quietly: \"Almost lost it… but I got it!\"\n",
    "\n",
    "Background Sound:\n",
    "Rain, ticking clock, soft mechanical hum, faint bulb sizzle.\n",
    "\n",
    "Add a light mention at the bottom of the video: 'Generated with SORA-2'.\n",
    "\"\"\""
   ]
  },
  {
   "cell_type": "code",
   "execution_count": 18,
   "id": "007b6e8e-326f-4cf9-83d1-a21dfea4b201",
   "metadata": {},
   "outputs": [
    {
     "name": "stdout",
     "output_type": "stream",
     "text": [
      "===== 🎨 Creating SORA-2 video using Azure AI Foundry =====\n",
      "\n",
      "Prompt: \n",
      "Style: Hand-painted 2D/3D hybrid animation with soft brush textures, warm tungsten lighting, and a tactile, stop-motion feel. \n",
      "The aesthetic evokes mid-2000s storybook animation — cozy, imperfect, full of mechanical charm. \n",
      "Subtle watercolor wash and painterly textures; warm–cool balance in grade; filmic motion blur for animated realism.\n",
      "Inside a cluttered workshop, shelves overflow with gears, bolts, and yellowing blueprints.\n",
      "At the center, a small round robot sits on a wooden bench, its dented body patched with mismatched plates and old paint layers. \n",
      "Its large glowing eyes flicker pale blue as it fiddles nervously with a humming light bulb. \n",
      "The air hums with quiet mechanical whirs, rain patters on the window, and the clock ticks steadily in the background.\n",
      "\n",
      "Cinematography:\n",
      "Camera: medium close-up, slow push-in with gentle parallax from hanging tools\n",
      "Lens: 35 mm virtual lens; shallow depth of field to soften background clutter\n",
      "Lighting: warm key from overhead practical; cool spill from window for contrast\n",
      "Mood: gentle, whimsical, a touch of suspense\n",
      "\n",
      "Actions:\n",
      "- The robot taps the bulb; sparks crackle.\n",
      "- It flinches, dropping the bulb, eyes widening.\n",
      "- The bulb tumbles in slow motion; it catches it just in time.\n",
      "- A puff of steam escapes its chest — relief and pride.\n",
      "- Robot says quietly: \"Almost lost it… but I got it!\"\n",
      "\n",
      "Background Sound:\n",
      "Rain, ticking clock, soft mechanical hum, faint bulb sizzle.\n",
      "\n",
      "📹 Video ID: video_68f63b723df881909fd03e04294af5d8\n",
      "⏳ Initial Status: queued\n",
      "\n",
      "[20-Oct-2025 13:38:58] ⏱️ Status: queued\n",
      "[20-Oct-2025 13:39:08] ⏱️ Status: in_progress\n",
      "[20-Oct-2025 13:39:19] ⏱️ Status: in_progress\n",
      "[20-Oct-2025 13:39:29] ⏱️ Status: in_progress\n",
      "[20-Oct-2025 13:39:40] ⏱️ Status: in_progress\n",
      "[20-Oct-2025 13:39:50] ⏱️ Status: in_progress\n",
      "[20-Oct-2025 13:40:00] ⏱️ Status: in_progress\n",
      "[20-Oct-2025 13:40:10] ⏱️ Status: in_progress\n",
      "[20-Oct-2025 13:40:21] ⏱️ Status: in_progress\n",
      "[20-Oct-2025 13:40:31] ⏱️ Status: in_progress\n",
      "[20-Oct-2025 13:40:41] ⏱️ Status: in_progress\n",
      "\n",
      "✨ Video generation completed!\n",
      "📥 Downloading video\n",
      "⏱️ Done in 1 minutes and 58 seconds\n",
      "\n",
      "✅ Video saved to: videos/sora2_video_20Oct2025_134056.mp4\n"
     ]
    }
   ],
   "source": [
    "sora2_videofile = sora2(prompt)"
   ]
  },
  {
   "cell_type": "code",
   "execution_count": 19,
   "id": "fb56c073-6b7b-4a7f-a7f7-796879c53942",
   "metadata": {},
   "outputs": [
    {
     "data": {
      "text/html": [
       "<video src=\"videos/sora2_video_20Oct2025_134056.mp4\" controls  width=\"1024\" >\n",
       "      Your browser does not support the <code>video</code> element.\n",
       "    </video>"
      ],
      "text/plain": [
       "<IPython.core.display.Video object>"
      ]
     },
     "execution_count": 19,
     "metadata": {},
     "output_type": "execute_result"
    }
   ],
   "source": [
    "Video(sora2_videofile, width=1024)"
   ]
  },
  {
   "cell_type": "code",
   "execution_count": 20,
   "id": "e718899d-530f-4039-b99a-b49eba1209f0",
   "metadata": {},
   "outputs": [
    {
     "data": {
      "text/html": [
       "<a href='videos/sora2_video_20Oct2025_134056.mp4' target='_blank'>videos/sora2_video_20Oct2025_134056.mp4</a><br>"
      ],
      "text/plain": [
       "/mnt/batch/tasks/shared/LS_root/mounts/clusters/standardd48/code/Users/seretkow/Sora2/videos/sora2_video_20Oct2025_134056.mp4"
      ]
     },
     "execution_count": 20,
     "metadata": {},
     "output_type": "execute_result"
    }
   ],
   "source": [
    "video_link = FileLink(path=sora2_videofile)\n",
    "video_link"
   ]
  },
  {
   "cell_type": "markdown",
   "id": "1c6a5b1e-3639-493f-8432-398cdb8af932",
   "metadata": {},
   "source": [
    "### Another example"
   ]
  },
  {
   "cell_type": "code",
   "execution_count": 21,
   "id": "ed5c571f-7ad3-4d64-b85f-475782ec8d7b",
   "metadata": {},
   "outputs": [],
   "source": [
    "prompt = \"\"\"\n",
    "Style\n",
    "Genre: 1950s gritty police action thriller in black and white.\n",
    "Look: Shot on 35 mm with high-contrast Kodak stock; cool steel-blue grade with neon accents.\n",
    "Texture: Heavy grain, slight jitter for tension; lens flares from sirens and streetlights.\n",
    "Atmosphere: Rain-slick rooftops, steam vents, and flashing red-blue lights cutting through shadows.\n",
    "\n",
    "Scene Setup\n",
    "Location: Same brick tenement rooftop, but now it’s a crime stakeout at night.\n",
    "Props: Laundry lines replaced with tactical ropes and scattered evidence markers; fairy bulbs swapped for harsh floodlights and pulsing sirens.\n",
    "Backdrop: Helicopter searchlights sweep across the skyline; distant gunfire and sirens echo below.\n",
    "\n",
    "Characters\n",
    "Detective: Worn leather jacket, badge glinting; grips a service revolver.\n",
    "Partner: Tactical vest, scanning the perimeter with a flashlight.\n",
    "Antagonist: Silhouette darting between sheets, gun drawn.\n",
    "\n",
    "Cinematography\n",
    "Camera: Tight tracking shot, low angle for intensity; whip pans during sudden movements.\n",
    "Lens: 28 mm for dynamic action; deep focus to capture chaos.\n",
    "Lighting: Harsh tungsten mixed with strobing police lights; steam backlight for drama.\n",
    "Mood: Tense, urgent, adrenaline-charged.\n",
    "\n",
    "Actions\n",
    "Detective crouches, whispers: “He's here. Be careful.”\n",
    "Partner signals silently, then bursts forward as a shadow moves.\n",
    "Gunfire erupts; sheets whip violently in the wind, obscuring the chase.\n",
    "Antagonist leave the place taking the stairs; detective follows in a desperate sprint.\n",
    "\n",
    "Soundscape\n",
    "Sirens wail, helicopter blades thrum overhead.\n",
    "Gunshots crack, ricocheting off brick.\n",
    "Rain patters on metal; distant shouting and screeching tires.\n",
    "\n",
    "Add a light mention at the bottom of the video: 'Generated with SORA-2'.\n",
    "\"\"\""
   ]
  },
  {
   "cell_type": "code",
   "execution_count": 22,
   "id": "c0830c33-fe84-4715-84ec-95c6343692e1",
   "metadata": {},
   "outputs": [
    {
     "name": "stdout",
     "output_type": "stream",
     "text": [
      "===== 🎨 Creating SORA-2 video using Azure AI Foundry =====\n",
      "\n",
      "Prompt: \n",
      "Style\n",
      "Genre: 1950s gritty police action thriller in black and white.\n",
      "Look: Shot on 35 mm with high-contrast Kodak stock; cool steel-blue grade with neon accents.\n",
      "Texture: Heavy grain, slight jitter for tension; lens flares from sirens and streetlights.\n",
      "Atmosphere: Rain-slick rooftops, steam vents, and flashing red-blue lights cutting through shadows.\n",
      "\n",
      "Scene Setup\n",
      "Location: Same brick tenement rooftop, but now it’s a crime stakeout at night.\n",
      "Props: Laundry lines replaced with tactical ropes and scattered evidence markers; fairy bulbs swapped for harsh floodlights and pulsing sirens.\n",
      "Backdrop: Helicopter searchlights sweep across the skyline; distant gunfire and sirens echo below.\n",
      "\n",
      "Characters\n",
      "Detective: Worn leather jacket, badge glinting; grips a service revolver.\n",
      "Partner: Tactical vest, scanning the perimeter with a flashlight.\n",
      "Antagonist: Silhouette darting between sheets, gun drawn.\n",
      "\n",
      "Cinematography\n",
      "Camera: Tight tracking shot, low angle for intensity; whip pans during sudden movements.\n",
      "Lens: 28 mm for dynamic action; deep focus to capture chaos.\n",
      "Lighting: Harsh tungsten mixed with strobing police lights; steam backlight for drama.\n",
      "Mood: Tense, urgent, adrenaline-charged.\n",
      "\n",
      "Actions\n",
      "Detective crouches, whispers: “He's here. Be careful.”\n",
      "Partner signals silently, then bursts forward as a shadow moves.\n",
      "Gunfire erupts; sheets whip violently in the wind, obscuring the chase.\n",
      "Antagonist leave the place taking the stairs; detective follows in a desperate sprint.\n",
      "\n",
      "Soundscape\n",
      "Sirens wail, helicopter blades thrum overhead.\n",
      "Gunshots crack, ricocheting off brick.\n",
      "Rain patters on metal; distant shouting and screeching tires.\n",
      "\n",
      "📹 Video ID: video_68f63be8a9b88190a24b1e60bd980338\n",
      "⏳ Initial Status: queued\n",
      "\n",
      "[20-Oct-2025 13:40:56] ⏱️ Status: queued\n",
      "[20-Oct-2025 13:41:06] ⏱️ Status: in_progress\n",
      "[20-Oct-2025 13:41:17] ⏱️ Status: in_progress\n",
      "[20-Oct-2025 13:41:27] ⏱️ Status: in_progress\n",
      "[20-Oct-2025 13:41:37] ⏱️ Status: in_progress\n",
      "[20-Oct-2025 13:41:47] ⏱️ Status: in_progress\n",
      "[20-Oct-2025 13:41:58] ⏱️ Status: in_progress\n",
      "[20-Oct-2025 13:42:08] ⏱️ Status: in_progress\n",
      "[20-Oct-2025 13:42:19] ⏱️ Status: in_progress\n",
      "[20-Oct-2025 13:42:29] ⏱️ Status: in_progress\n",
      "[20-Oct-2025 13:42:39] ⏱️ Status: in_progress\n",
      "[20-Oct-2025 13:42:50] ⏱️ Status: in_progress\n",
      "\n",
      "✨ Video generation completed!\n",
      "📥 Downloading video\n",
      "⏱️ Done in 2 minutes and 12 seconds\n",
      "\n",
      "✅ Video saved to: videos/sora2_video_20Oct2025_134308.mp4\n"
     ]
    }
   ],
   "source": [
    "sora2_videofile = sora2(prompt)"
   ]
  },
  {
   "cell_type": "code",
   "execution_count": 23,
   "id": "5b80e2fd-d28b-4dc0-9fcd-0e6dd9e16b32",
   "metadata": {},
   "outputs": [
    {
     "data": {
      "text/html": [
       "<video src=\"videos/sora2_video_20Oct2025_134308.mp4\" controls  width=\"1024\" >\n",
       "      Your browser does not support the <code>video</code> element.\n",
       "    </video>"
      ],
      "text/plain": [
       "<IPython.core.display.Video object>"
      ]
     },
     "execution_count": 23,
     "metadata": {},
     "output_type": "execute_result"
    }
   ],
   "source": [
    "Video(sora2_videofile, width=1024)"
   ]
  },
  {
   "cell_type": "code",
   "execution_count": 24,
   "id": "37071f26-c3b5-4cee-baeb-8c45ebe64080",
   "metadata": {},
   "outputs": [
    {
     "data": {
      "text/html": [
       "<a href='videos/sora2_video_20Oct2025_134308.mp4' target='_blank'>videos/sora2_video_20Oct2025_134308.mp4</a><br>"
      ],
      "text/plain": [
       "/mnt/batch/tasks/shared/LS_root/mounts/clusters/standardd48/code/Users/seretkow/Sora2/videos/sora2_video_20Oct2025_134308.mp4"
      ]
     },
     "execution_count": 24,
     "metadata": {},
     "output_type": "execute_result"
    }
   ],
   "source": [
    "video_link = FileLink(path=sora2_videofile)\n",
    "video_link"
   ]
  },
  {
   "cell_type": "markdown",
   "id": "d59bd2b6-ffc7-474e-92ee-a09d06f10792",
   "metadata": {},
   "source": [
    "### Another example"
   ]
  },
  {
   "cell_type": "code",
   "execution_count": 25,
   "id": "0b5516b7-f974-453f-9228-467762e28f96",
   "metadata": {},
   "outputs": [],
   "source": [
    "prompt = \"\"\"\n",
    "Style: 1970s romantic drama, shot on 35 mm film with natural flares, soft focus, and warm halation. \n",
    "Slight gate weave and handheld micro-shake evoke vintage intimacy. \n",
    "Warm Kodak-inspired grade; light halation on bulbs; film grain and soft vignette for period authenticity.\n",
    "At golden hour, a brick tenement rooftop transforms into a small stage. \n",
    "Laundry lines strung with white sheets sway in the wind, catching the last rays of sunlight. \n",
    "Strings of mismatched fairy bulbs hum faintly overhead. A young woman in a flowing red silk dress dances barefoot, curls glowing in the fading light. \n",
    "Her partner — sleeves rolled, suspenders loose — claps along, his smile wide and unguarded. \n",
    "Below, the city hums with car horns, subway tremors, and distant laughter.\n",
    "\n",
    "Cinematography:\n",
    "Camera: medium-wide shot, slow dolly-in from eye level.\n",
    "Lens: 40 mm spherical; shallow focus to isolate the couple from skyline.\n",
    "Lighting: golden natural key with tungsten bounce; edge from fairy bulbs.\n",
    "Mood: nostalgic, tender, cinematic.\n",
    "\n",
    "Actions:\n",
    "- She spins; her dress flares, catching sunlight.\n",
    "- Woman (laughing): \"See? Even the city dances with us tonight.\"\n",
    "- He steps in, catches her hand, and dips her into shadow.\n",
    "- Man (smiling): \"Only because you lead.\"\n",
    "- Sheets drift across frame, briefly veiling the skyline before parting again.\n",
    "\n",
    "Background Sound:\n",
    "Natural ambience only: faint wind, fabric flutter, street noise, funky music.\n",
    "\n",
    "Add a light mention at the bottom of the video: 'Generated with SORA-2'.\n",
    "\"\"\""
   ]
  },
  {
   "cell_type": "code",
   "execution_count": 26,
   "id": "1ef3b7e4-1bea-4353-8249-f5352c6acf97",
   "metadata": {},
   "outputs": [
    {
     "name": "stdout",
     "output_type": "stream",
     "text": [
      "===== 🎨 Creating SORA-2 video using Azure AI Foundry =====\n",
      "\n",
      "Prompt: \n",
      "Style: 1970s romantic drama, shot on 35 mm film with natural flares, soft focus, and warm halation. \n",
      "Slight gate weave and handheld micro-shake evoke vintage intimacy. \n",
      "Warm Kodak-inspired grade; light halation on bulbs; film grain and soft vignette for period authenticity.\n",
      "At golden hour, a brick tenement rooftop transforms into a small stage. \n",
      "Laundry lines strung with white sheets sway in the wind, catching the last rays of sunlight. \n",
      "Strings of mismatched fairy bulbs hum faintly overhead. A young woman in a flowing red silk dress dances barefoot, curls glowing in the fading light. \n",
      "Her partner — sleeves rolled, suspenders loose — claps along, his smile wide and unguarded. \n",
      "Below, the city hums with car horns, subway tremors, and distant laughter.\n",
      "\n",
      "Cinematography:\n",
      "Camera: medium-wide shot, slow dolly-in from eye level.\n",
      "Lens: 40 mm spherical; shallow focus to isolate the couple from skyline.\n",
      "Lighting: golden natural key with tungsten bounce; edge from fairy bulbs.\n",
      "Mood: nostalgic, tender, cinematic.\n",
      "\n",
      "Actions:\n",
      "- She spins; her dress flares, catching sunlight.\n",
      "- Woman (laughing): \"See? Even the city dances with us tonight.\"\n",
      "- He steps in, catches her hand, and dips her into shadow.\n",
      "- Man (smiling): \"Only because you lead.\"\n",
      "- Sheets drift across frame, briefly veiling the skyline before parting again.\n",
      "\n",
      "Background Sound:\n",
      "Natural ambience only: faint wind, fabric flutter, street noise, funky music.\n",
      "\n",
      "📹 Video ID: video_68f63c6cda0c8190a8a8c2fe5571da40\n",
      "⏳ Initial Status: queued\n",
      "\n",
      "[20-Oct-2025 13:43:08] ⏱️ Status: queued\n",
      "[20-Oct-2025 13:43:19] ⏱️ Status: in_progress\n",
      "[20-Oct-2025 13:43:30] ⏱️ Status: in_progress\n",
      "[20-Oct-2025 13:43:40] ⏱️ Status: in_progress\n",
      "[20-Oct-2025 13:43:50] ⏱️ Status: in_progress\n",
      "[20-Oct-2025 13:44:00] ⏱️ Status: in_progress\n",
      "[20-Oct-2025 13:44:10] ⏱️ Status: in_progress\n",
      "[20-Oct-2025 13:44:21] ⏱️ Status: in_progress\n",
      "[20-Oct-2025 13:44:31] ⏱️ Status: in_progress\n",
      "[20-Oct-2025 13:44:41] ⏱️ Status: in_progress\n",
      "[20-Oct-2025 13:44:52] ⏱️ Status: in_progress\n",
      "[20-Oct-2025 13:45:02] ⏱️ Status: in_progress\n",
      "[20-Oct-2025 13:45:12] ⏱️ Status: in_progress\n",
      "\n",
      "✨ Video generation completed!\n",
      "📥 Downloading video\n",
      "⏱️ Done in 2 minutes and 19 seconds\n",
      "\n",
      "✅ Video saved to: videos/sora2_video_20Oct2025_134527.mp4\n"
     ]
    }
   ],
   "source": [
    "sora2_videofile = sora2(prompt)"
   ]
  },
  {
   "cell_type": "code",
   "execution_count": 27,
   "id": "d794f943-0c45-4938-8e6c-8c570dbfdfa6",
   "metadata": {},
   "outputs": [
    {
     "data": {
      "text/html": [
       "<video src=\"videos/sora2_video_20Oct2025_134527.mp4\" controls  width=\"1024\" >\n",
       "      Your browser does not support the <code>video</code> element.\n",
       "    </video>"
      ],
      "text/plain": [
       "<IPython.core.display.Video object>"
      ]
     },
     "execution_count": 27,
     "metadata": {},
     "output_type": "execute_result"
    }
   ],
   "source": [
    "Video(sora2_videofile, width=1024)"
   ]
  },
  {
   "cell_type": "code",
   "execution_count": 28,
   "id": "632f9ffa-b0eb-4704-ab74-cdb362e9c8f3",
   "metadata": {},
   "outputs": [
    {
     "data": {
      "text/html": [
       "<a href='videos/sora2_video_20Oct2025_134527.mp4' target='_blank'>videos/sora2_video_20Oct2025_134527.mp4</a><br>"
      ],
      "text/plain": [
       "/mnt/batch/tasks/shared/LS_root/mounts/clusters/standardd48/code/Users/seretkow/Sora2/videos/sora2_video_20Oct2025_134527.mp4"
      ]
     },
     "execution_count": 28,
     "metadata": {},
     "output_type": "execute_result"
    }
   ],
   "source": [
    "video_link = FileLink(path=sora2_videofile)\n",
    "video_link"
   ]
  },
  {
   "cell_type": "markdown",
   "id": "5ac94b96-4f67-4b10-a29c-db07fd1f4d30",
   "metadata": {},
   "source": [
    "### Another example"
   ]
  },
  {
   "cell_type": "code",
   "execution_count": 29,
   "id": "ca9710b9-e293-4494-b88f-7100b0bd803e",
   "metadata": {},
   "outputs": [],
   "source": [
    "prompt = \"\"\"\n",
    "cene Concept: Car Chase in San Francisco.\n",
    "Setting: Manhattan streets, late afternoon transitioning to dusk. Wet asphalt from recent rain, neon reflections from storefronts.\n",
    "\n",
    "Cinematography\n",
    "Camera Styles:\n",
    "Opening Shot: Aerial drone shot sweeping over the Golden gate bridge, establishing the cityscape.\n",
    "Tracking Shots: Low-angle dolly alongside speeding cars, emphasizing tire grip and sparks from metal scraping.\n",
    "POV Shots: Inside the driver’s seat, shaky handheld for tension.\n",
    "Crash Cam: Mounted GoPro-style on bumpers for impact moments.\n",
    "\n",
    "Lighting:\n",
    "Natural golden-hour light mixed with harsh neon signage.\n",
    "Flickering streetlights and reflections on wet pavement for cinematic depth.\n",
    "\n",
    "Lens Choices:\n",
    "Wide-angle (24mm) for cityscape and chase overview.\n",
    "Telephoto (85mm) for compressing traffic chaos and close-ups of driver expressions.\n",
    "\n",
    "Transitions:\n",
    "Quick whip pans between cars.\n",
    "Slow-motion during near-collision moments.\n",
    "\n",
    "Action Details\n",
    "Cars weaving through congested traffic, clipping mirrors.\n",
    "Pedestrians scattering, hot dog stand tipping over.\n",
    "Police sirens in the distance, squad cars joining the pursuit.\n",
    "Dramatic jump over a construction ramp, sparks flying.\n",
    "Near-miss with a yellow taxi spinning out.\n",
    "\n",
    "Sound Design\n",
    "Engine Roar: Deep growl for muscle cars, high-pitched whine for sports cars.\n",
    "Tire Screech: Layered with echo for urban canyon effect.\n",
    "Ambient San Francisco: Honking horns, distant subway rumble, street chatter fading under chase intensity.\n",
    "Impact Sounds: Metallic crunch for collisions, glass shatter for side hits.\n",
    "Music Cue: High-tempo percussion with electronic bass drops synced to gear shifts.\n",
    "Dynamic Silence: Brief mute before a major crash for dramatic tension.\n",
    "\n",
    "Add a light mention at the bottom of the video: 'Generated with SORA-2'.\n",
    "\"\"\""
   ]
  },
  {
   "cell_type": "code",
   "execution_count": 30,
   "id": "7a52181e-8ad9-48c6-971e-68328d42ac13",
   "metadata": {},
   "outputs": [
    {
     "name": "stdout",
     "output_type": "stream",
     "text": [
      "===== 🎨 Creating SORA-2 video using Azure AI Foundry =====\n",
      "\n",
      "Prompt: \n",
      "cene Concept: Car Chase in San Francisco.\n",
      "Setting: Manhattan streets, late afternoon transitioning to dusk. Wet asphalt from recent rain, neon reflections from storefronts.\n",
      "\n",
      "Cinematography\n",
      "Camera Styles:\n",
      "Opening Shot: Aerial drone shot sweeping over the Golden gate bridge, establishing the cityscape.\n",
      "Tracking Shots: Low-angle dolly alongside speeding cars, emphasizing tire grip and sparks from metal scraping.\n",
      "POV Shots: Inside the driver’s seat, shaky handheld for tension.\n",
      "Crash Cam: Mounted GoPro-style on bumpers for impact moments.\n",
      "\n",
      "Lighting:\n",
      "Natural golden-hour light mixed with harsh neon signage.\n",
      "Flickering streetlights and reflections on wet pavement for cinematic depth.\n",
      "\n",
      "Lens Choices:\n",
      "Wide-angle (24mm) for cityscape and chase overview.\n",
      "Telephoto (85mm) for compressing traffic chaos and close-ups of driver expressions.\n",
      "\n",
      "Transitions:\n",
      "Quick whip pans between cars.\n",
      "Slow-motion during near-collision moments.\n",
      "\n",
      "Action Details\n",
      "Cars weaving through congested traffic, clipping mirrors.\n",
      "Pedestrians scattering, hot dog stand tipping over.\n",
      "Police sirens in the distance, squad cars joining the pursuit.\n",
      "Dramatic jump over a construction ramp, sparks flying.\n",
      "Near-miss with a yellow taxi spinning out.\n",
      "\n",
      "Sound Design\n",
      "Engine Roar: Deep growl for muscle cars, high-pitched whine for sports cars.\n",
      "Tire Screech: Layered with echo for urban canyon effect.\n",
      "Ambient San Francisco: Honking horns, distant subway rumble, street chatter fading under chase intensity.\n",
      "Impact Sounds: Metallic crunch for collisions, glass shatter for side hits.\n",
      "Music Cue: High-tempo percussion with electronic bass drops synced to gear shifts.\n",
      "Dynamic Silence: Brief mute before a major crash for dramatic tension.\n",
      "\n",
      "📹 Video ID: video_68f63cf846fc8190a47293d01780cc18\n",
      "⏳ Initial Status: queued\n",
      "\n",
      "[20-Oct-2025 13:45:28] ⏱️ Status: queued\n",
      "[20-Oct-2025 13:45:38] ⏱️ Status: in_progress\n",
      "[20-Oct-2025 13:45:49] ⏱️ Status: in_progress\n",
      "[20-Oct-2025 13:45:59] ⏱️ Status: in_progress\n",
      "[20-Oct-2025 13:46:09] ⏱️ Status: in_progress\n",
      "[20-Oct-2025 13:46:19] ⏱️ Status: in_progress\n",
      "[20-Oct-2025 13:46:30] ⏱️ Status: in_progress\n",
      "[20-Oct-2025 13:46:40] ⏱️ Status: in_progress\n",
      "[20-Oct-2025 13:46:50] ⏱️ Status: in_progress\n",
      "[20-Oct-2025 13:47:01] ⏱️ Status: in_progress\n",
      "[20-Oct-2025 13:47:11] ⏱️ Status: in_progress\n",
      "[20-Oct-2025 13:47:21] ⏱️ Status: in_progress\n",
      "[20-Oct-2025 13:47:32] ⏱️ Status: in_progress\n",
      "[20-Oct-2025 13:47:42] ⏱️ Status: in_progress\n",
      "\n",
      "✨ Video generation completed!\n",
      "📥 Downloading video\n",
      "⏱️ Done in 2 minutes and 31 seconds\n",
      "\n",
      "✅ Video saved to: videos/sora2_video_20Oct2025_134759.mp4\n"
     ]
    }
   ],
   "source": [
    "sora2_videofile = sora2(prompt)"
   ]
  },
  {
   "cell_type": "code",
   "execution_count": 31,
   "id": "1ca6166d-c124-42f9-9f27-80e50152f135",
   "metadata": {},
   "outputs": [
    {
     "data": {
      "text/html": [
       "<video src=\"videos/sora2_video_20Oct2025_134759.mp4\" controls  width=\"1024\" >\n",
       "      Your browser does not support the <code>video</code> element.\n",
       "    </video>"
      ],
      "text/plain": [
       "<IPython.core.display.Video object>"
      ]
     },
     "execution_count": 31,
     "metadata": {},
     "output_type": "execute_result"
    }
   ],
   "source": [
    "Video(sora2_videofile, width=1024)"
   ]
  },
  {
   "cell_type": "code",
   "execution_count": 32,
   "id": "2ab982ae-c519-4af0-9e21-fdc09fac0405",
   "metadata": {},
   "outputs": [
    {
     "data": {
      "text/html": [
       "<a href='videos/sora2_video_20Oct2025_134759.mp4' target='_blank'>videos/sora2_video_20Oct2025_134759.mp4</a><br>"
      ],
      "text/plain": [
       "/mnt/batch/tasks/shared/LS_root/mounts/clusters/standardd48/code/Users/seretkow/Sora2/videos/sora2_video_20Oct2025_134759.mp4"
      ]
     },
     "execution_count": 32,
     "metadata": {},
     "output_type": "execute_result"
    }
   ],
   "source": [
    "video_link = FileLink(path=sora2_videofile)\n",
    "video_link"
   ]
  },
  {
   "cell_type": "markdown",
   "id": "6fffca68-0aac-4df5-9f5f-9bd73fc10e5e",
   "metadata": {},
   "source": [
    "### Another example"
   ]
  },
  {
   "cell_type": "code",
   "execution_count": 36,
   "id": "54a1d395-8112-4c37-b598-00b0ceaa02e8",
   "metadata": {},
   "outputs": [],
   "source": [
    "prompt = \"\"\"\n",
    "A high-energy hard rock band performing live on a massive stage at night, with dramatic pyrotechnics and flames shooting up around the musicians.\n",
    "The band members are playing electric guitars, bass, and drums with intense passion, headbanging under bright spotlights and colorful strobe lights. \n",
    "The crowd is cheering wildly in the background, hands raised in the air. \n",
    "The atmosphere is dark and moody with smoke effects, glowing red and orange fire illuminating the scene, creating a raw, powerful rock concert vibe. \n",
    "Ultra-realistic cinematic style, dynamic camera angles, 4K resolution.\n",
    "\n",
    "Add a light mention at the bottom of the video: 'Generated with SORA-2'.\n",
    "\"\"\""
   ]
  },
  {
   "cell_type": "code",
   "execution_count": 37,
   "id": "f9544163-31ef-410e-a565-9e3f29710f7e",
   "metadata": {},
   "outputs": [
    {
     "name": "stdout",
     "output_type": "stream",
     "text": [
      "===== 🎨 Creating SORA-2 video using Azure AI Foundry =====\n",
      "\n",
      "Prompt: \n",
      "A high-energy hard rock band performing live on a massive stage at night, with dramatic pyrotechnics and flames shooting up around the musicians.\n",
      "The band members are playing electric guitars, bass, and drums with intense passion, headbanging under bright spotlights and colorful strobe lights. \n",
      "The crowd is cheering wildly in the background, hands raised in the air. \n",
      "The atmosphere is dark and moody with smoke effects, glowing red and orange fire illuminating the scene, creating a raw, powerful rock concert vibe. \n",
      "Ultra-realistic cinematic style, dynamic camera angles, 4K resolution.\n",
      "\n",
      "📹 Video ID: video_68f63deacb208190992f0aac30180995\n",
      "⏳ Initial Status: queued\n",
      "\n",
      "[20-Oct-2025 13:49:30] ⏱️ Status: queued\n",
      "[20-Oct-2025 13:49:41] ⏱️ Status: in_progress\n",
      "[20-Oct-2025 13:49:52] ⏱️ Status: in_progress\n",
      "[20-Oct-2025 13:50:02] ⏱️ Status: in_progress\n",
      "[20-Oct-2025 13:50:12] ⏱️ Status: in_progress\n",
      "[20-Oct-2025 13:50:23] ⏱️ Status: in_progress\n",
      "[20-Oct-2025 13:50:33] ⏱️ Status: in_progress\n",
      "[20-Oct-2025 13:50:43] ⏱️ Status: in_progress\n",
      "[20-Oct-2025 13:50:53] ⏱️ Status: in_progress\n",
      "[20-Oct-2025 13:51:04] ⏱️ Status: in_progress\n",
      "[20-Oct-2025 13:51:14] ⏱️ Status: in_progress\n",
      "[20-Oct-2025 13:51:24] ⏱️ Status: in_progress\n",
      "\n",
      "✨ Video generation completed!\n",
      "📥 Downloading video\n",
      "⏱️ Done in 2 minutes and 12 seconds\n",
      "\n",
      "✅ Video saved to: videos/sora2_video_20Oct2025_135142.mp4\n"
     ]
    }
   ],
   "source": [
    "sora2_videofile = sora2(prompt)"
   ]
  },
  {
   "cell_type": "code",
   "execution_count": 38,
   "id": "ee838b30-8d5c-4745-9de6-1032e4a1f9d6",
   "metadata": {},
   "outputs": [
    {
     "data": {
      "text/html": [
       "<video src=\"videos/sora2_video_20Oct2025_135142.mp4\" controls  width=\"1024\" >\n",
       "      Your browser does not support the <code>video</code> element.\n",
       "    </video>"
      ],
      "text/plain": [
       "<IPython.core.display.Video object>"
      ]
     },
     "execution_count": 38,
     "metadata": {},
     "output_type": "execute_result"
    }
   ],
   "source": [
    "Video(sora2_videofile, width=1024)"
   ]
  },
  {
   "cell_type": "code",
   "execution_count": 39,
   "id": "af6a4b34-3cd3-4344-9572-85fa3b18aef6",
   "metadata": {},
   "outputs": [
    {
     "data": {
      "text/html": [
       "<a href='videos/sora2_video_20Oct2025_135142.mp4' target='_blank'>videos/sora2_video_20Oct2025_135142.mp4</a><br>"
      ],
      "text/plain": [
       "/mnt/batch/tasks/shared/LS_root/mounts/clusters/standardd48/code/Users/seretkow/Sora2/videos/sora2_video_20Oct2025_135142.mp4"
      ]
     },
     "execution_count": 39,
     "metadata": {},
     "output_type": "execute_result"
    }
   ],
   "source": [
    "video_link = FileLink(path=sora2_videofile)\n",
    "video_link"
   ]
  },
  {
   "cell_type": "markdown",
   "id": "2125fbdc-f841-4e8e-aec4-a7f88eb7c3db",
   "metadata": {},
   "source": [
    "### Another example"
   ]
  },
  {
   "cell_type": "code",
   "execution_count": 50,
   "id": "ebd374d3-f058-48ee-94fc-c119c128e7a7",
   "metadata": {},
   "outputs": [],
   "source": [
    "prompt = \"\"\"\n",
    "A professional two-person interview setup in a modern tech office environment, focused on discussing Microsoft Azure cloud solutions. \n",
    "One person is the interviewer who is a 40 years old girl, seated across from the guest, who is an Azure expert and a 25 years old male. \n",
    "Both are dressed in business casual attire, speaking confidently and engagingly. \n",
    "The background features subtle branding elements like Azure logos on a digital screen, with soft lighting and a clean, minimalistic design. \n",
    "Include close-up shots of the speakers, smooth camera transitions, and clear audio emphasis on their conversation. \n",
    "The tone is informative and professional, with a dynamic yet authentic feel. \n",
    "Ultra-realistic cinematic style, 4K resolution.\n",
    "\n",
    "Question from the interviewer: 'Good morning John.'\n",
    "Answer from the Azure expert: 'Hello, good morning Lita.'\n",
    "\n",
    "Question from the interviewer: 'Do you know how to do computer vision with Azure?'\n",
    "Answer from the Azure expert: 'Well you can use AutoML for Images from Azure ML. Or use Azure Custom Vision or Azure AI Vision.'\n",
    "\n",
    "Add a light mention at the bottom of the video: 'Generated with SORA-2'.\n",
    "\n",
    "\"\"\""
   ]
  },
  {
   "cell_type": "code",
   "execution_count": null,
   "id": "50301650-f0a8-47ee-9a2a-f228ebaab261",
   "metadata": {},
   "outputs": [
    {
     "name": "stdout",
     "output_type": "stream",
     "text": [
      "===== 🎨 Creating SORA-2 video using Azure AI Foundry =====\n",
      "\n",
      "Prompt: \n",
      "A professional two-person interview setup in a modern tech office environment, focused on discussing Microsoft Azure cloud solutions. \n",
      "One person is the interviewer who is a 40 years old girl, seated across from the guest, who is an Azure expert and a 25 years old male. \n",
      "Both are dressed in business casual attire, speaking confidently and engagingly. \n",
      "The background features subtle branding elements like Azure logos on a digital screen, with soft lighting and a clean, minimalistic design. \n",
      "Include close-up shots of the speakers, smooth camera transitions, and clear audio emphasis on their conversation. \n",
      "The tone is informative and professional, with a dynamic yet authentic feel. \n",
      "Ultra-realistic cinematic style, 4K resolution.\n",
      "\n",
      "Question from the interviewer: 'Good morning John.'\n",
      "Answer from the Azure expert: 'Hello, good morning Lita.'\n",
      "\n",
      "Question from the interviewer: 'Do you know how to do computer vision with Azure?'\n",
      "Answer from the Azure expert: 'Well you can use AutoML for Images from Azure ML. Or use Azure Custom Vision or Azure AI Vision.'\n",
      "\n",
      "Add a light mention at the bottom of the video: 'Generated with SORA-2'.\n",
      "\n",
      "\n",
      "📹 Video ID: video_68f64118ae7c819086ebea4b66ac3c8c\n",
      "⏳ Initial Status: queued\n",
      "\n",
      "[20-Oct-2025 14:03:04] ⏱️ Status: queued\n",
      "[20-Oct-2025 14:03:15] ⏱️ Status: in_progress\n",
      "[20-Oct-2025 14:03:25] ⏱️ Status: in_progress\n",
      "[20-Oct-2025 14:03:35] ⏱️ Status: in_progress\n",
      "[20-Oct-2025 14:03:45] ⏱️ Status: in_progress\n",
      "[20-Oct-2025 14:03:56] ⏱️ Status: in_progress\n",
      "[20-Oct-2025 14:04:06] ⏱️ Status: in_progress\n",
      "[20-Oct-2025 14:04:16] ⏱️ Status: in_progress\n",
      "[20-Oct-2025 14:04:26] ⏱️ Status: in_progress\n",
      "[20-Oct-2025 14:04:37] ⏱️ Status: in_progress\n"
     ]
    }
   ],
   "source": [
    "sora2_videofile = sora2(prompt)"
   ]
  },
  {
   "cell_type": "code",
   "execution_count": null,
   "id": "35ca62bc-4f42-40d5-b855-f01433d000e7",
   "metadata": {},
   "outputs": [],
   "source": [
    "Video(sora2_videofile, width=1024)"
   ]
  },
  {
   "cell_type": "code",
   "execution_count": null,
   "id": "282bc7cd-361d-42ee-af9e-334baaab1937",
   "metadata": {},
   "outputs": [],
   "source": [
    "video_link = FileLink(path=sora2_videofile)\n",
    "video_link"
   ]
  },
  {
   "cell_type": "markdown",
   "id": "b135803c-9953-4025-ad64-0e814246fbb6",
   "metadata": {},
   "source": [
    "## 6. All SORA-2 generated videos"
   ]
  },
  {
   "cell_type": "code",
   "execution_count": 47,
   "id": "279bc5aa-3b65-4038-bee6-72874114f5b6",
   "metadata": {},
   "outputs": [
    {
     "name": "stdout",
     "output_type": "stream",
     "text": [
      "total 18M\n",
      "-rwxrwxrwx 1 root root 1.1M Oct 20 13:35 sora2_video_20Oct2025_133557.mp4\n",
      "-rwxrwxrwx 1 root root 1.7M Oct 20 13:38 sora2_video_20Oct2025_133857.mp4\n",
      "-rwxrwxrwx 1 root root 1.6M Oct 20 13:40 sora2_video_20Oct2025_134056.mp4\n",
      "-rwxrwxrwx 1 root root 3.5M Oct 20 13:43 sora2_video_20Oct2025_134308.mp4\n",
      "-rwxrwxrwx 1 root root 1.4M Oct 20 13:45 sora2_video_20Oct2025_134527.mp4\n",
      "-rwxrwxrwx 1 root root 2.7M Oct 20 13:47 sora2_video_20Oct2025_134759.mp4\n",
      "-rwxrwxrwx 1 root root 3.5M Oct 20 13:51 sora2_video_20Oct2025_135142.mp4\n",
      "-rwxrwxrwx 1 root root 1.1M Oct 20 13:56 sora2_video_20Oct2025_135613.mp4\n",
      "-rwxrwxrwx 1 root root 1.1M Oct 20 14:02 sora2_video_20Oct2025_140231.mp4\n"
     ]
    }
   ],
   "source": [
    "!ls $VIDEO_DIR -lh"
   ]
  },
  {
   "cell_type": "code",
   "execution_count": 48,
   "id": "c0c09b80-b99d-4a9d-8bf7-e963bb1c5759",
   "metadata": {},
   "outputs": [
    {
     "name": "stdout",
     "output_type": "stream",
     "text": [
      "Zipping videos files from 'videos' to 'sora2_videos.zip' ...\n",
      "Done\n",
      "-rwxrwxrwx 1 root root 18M Oct 20 14:02 sora2_videos.zip\n"
     ]
    }
   ],
   "source": [
    "zip_filename = \"sora2_videos.zip\"\n",
    "\n",
    "print(f\"Zipping videos files from '{VIDEO_DIR}' to '{zip_filename}' ...\")\n",
    "\n",
    "with zipfile.ZipFile(zip_filename, 'w', zipfile.ZIP_DEFLATED) as zipf:\n",
    "    for root, dirs, files in os.walk(VIDEO_DIR):\n",
    "        for file in files:\n",
    "            zipf.write(os.path.join(root, file), os.path.relpath(os.path.join(root, file), VIDEO_DIR))\n",
    "\n",
    "print(\"Done\")\n",
    "!ls $zip_filename -lh"
   ]
  },
  {
   "cell_type": "code",
   "execution_count": 49,
   "id": "5ce0c880-0405-4076-a654-bec4aed0127d",
   "metadata": {},
   "outputs": [
    {
     "data": {
      "text/html": [
       "<a href='sora2_videos.zip' target='_blank'>sora2_videos.zip</a><br>"
      ],
      "text/plain": [
       "/mnt/batch/tasks/shared/LS_root/mounts/clusters/standardd48/code/Users/seretkow/Sora2/sora2_videos.zip"
      ]
     },
     "execution_count": 49,
     "metadata": {},
     "output_type": "execute_result"
    }
   ],
   "source": [
    "zip_link = FileLink(path=zip_filename)\n",
    "zip_link"
   ]
  },
  {
   "cell_type": "code",
   "execution_count": null,
   "id": "a971e784-7922-4d90-9d42-ce0f781a44fa",
   "metadata": {},
   "outputs": [],
   "source": []
  }
 ],
 "metadata": {
  "kernelspec": {
   "display_name": "Python 3.10 - SDK v2",
   "language": "python",
   "name": "python310-sdkv2"
  },
  "language_info": {
   "codemirror_mode": {
    "name": "ipython",
    "version": 3
   },
   "file_extension": ".py",
   "mimetype": "text/x-python",
   "name": "python",
   "nbconvert_exporter": "python",
   "pygments_lexer": "ipython3",
   "version": "3.10.18"
  },
  "varInspector": {
   "cols": {
    "lenName": 16,
    "lenType": 16,
    "lenVar": 40
   },
   "kernels_config": {
    "python": {
     "delete_cmd_postfix": "",
     "delete_cmd_prefix": "del ",
     "library": "var_list.py",
     "varRefreshCmd": "print(var_dic_list())"
    },
    "r": {
     "delete_cmd_postfix": ") ",
     "delete_cmd_prefix": "rm(",
     "library": "var_list.r",
     "varRefreshCmd": "cat(var_dic_list()) "
    }
   },
   "types_to_exclude": [
    "module",
    "function",
    "builtin_function_or_method",
    "instance",
    "_Feature"
   ],
   "window_display": false
  }
 },
 "nbformat": 4,
 "nbformat_minor": 5
}
